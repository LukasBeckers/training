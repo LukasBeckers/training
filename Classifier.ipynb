{
 "cells": [
  {
   "cell_type": "code",
   "execution_count": 22,
   "id": "1547c480-6c9a-4da0-a4c3-2ab83390baf8",
   "metadata": {},
   "outputs": [],
   "source": [
    "import pandas as pd\n",
    "from collections import Counter\n",
    "from transformers import BertModel, BertTokenizer\n",
    "import torch\n",
    "import numpy as np\n",
    "from sklearn.manifold import TSNE\n",
    "from sklearn.model_selection import train_test_split\n",
    "import matplotlib.pyplot as plt\n",
    "import seaborn as sns\n",
    "import hdbscan\n",
    "from torch.utils.data import DataLoader, Dataset, random_split\n",
    "import torch.nn as nn\n",
    "import torch.nn.functional as F\n",
    "import torchsummary\n",
    "import torch.optim as optim\n",
    "import wandb "
   ]
  },
  {
   "cell_type": "markdown",
   "id": "2fe5bd28-f982-4755-bc4a-8fe2c804b18e",
   "metadata": {},
   "source": [
    "# Load the Datasets"
   ]
  },
  {
   "cell_type": "code",
   "execution_count": 2,
   "id": "19d96792-36f9-40d7-8dec-3d20316905a5",
   "metadata": {},
   "outputs": [],
   "source": [
    "train = pd.read_pickle(\"train.pk\")\n",
    "val = pd.read_pickle(\"val.pk\")\n",
    "test = pd.read_pickle(\"test.pk\")"
   ]
  },
  {
   "cell_type": "code",
   "execution_count": 3,
   "id": "33b944eb-6fe8-4a0b-a150-394be6a55815",
   "metadata": {},
   "outputs": [
    {
     "data": {
      "text/plain": [
       "100"
      ]
     },
     "execution_count": 3,
     "metadata": {},
     "output_type": "execute_result"
    }
   ],
   "source": [
    "len(train[\"BookingCode\"].unique())"
   ]
  },
  {
   "cell_type": "code",
   "execution_count": 4,
   "id": "973347ec-a724-4a87-abb8-a0d6f30f69ac",
   "metadata": {},
   "outputs": [],
   "source": [
    "full_ds = pd.concat([train, val, test])\n",
    "\n",
    "label_dict = {i:  booking_code for i, booking_code in enumerate(full_ds[\"BookingCode\"].unique().tolist())}\n",
    "booking_code_to_label = {v: k for k, v in label_dict.items()}\n",
    "\n",
    "# PartNumber\n",
    "part_number_dict = {i:  part_number for i, part_number in enumerate(full_ds[\"PartNumber\"].unique().tolist())}\n",
    "part_number_to_label = {v: k for k, v in part_number_dict.items()}\n",
    "\n",
    "# hdbscanCluster\n",
    "cluster_dict = {i:  cluster_number for i, cluster_number in enumerate(full_ds[\"hdbscanCluster\"].unique().tolist())}\n",
    "cluster_to_label = {v: k for k, v in cluster_dict.items()}"
   ]
  },
  {
   "cell_type": "code",
   "execution_count": 5,
   "id": "6a23fa85-3da0-4239-a6ff-83dc39f348d1",
   "metadata": {},
   "outputs": [],
   "source": [
    "# Convert to pytorch datasets\n",
    "\n",
    "class CustomDataset(Dataset):\n",
    "    def __init__(self, dataframe: pd.DataFrame, preprocess_transforms=None):\n",
    "        self.raw_data = dataframe\n",
    "        self.preprocess_transforms = preprocess_transforms\n",
    "\n",
    "    def __len__(self):\n",
    "        return len(self.raw_data)\n",
    "\n",
    "    def __getitem__(self, idx):\n",
    "        if torch.is_tensor(idx):\n",
    "            idx = idx.tolist()\n",
    "\n",
    "        row = self.raw_data.iloc[idx]\n",
    "        \n",
    "        sample = {\n",
    "            \"text\": row[\"Description\"],\n",
    "            \"text_emb\": row[\"descriptionEmbeddings\"],\n",
    "            \"part_num\": part_number_to_label[row[\"PartNumber\"]],\n",
    "            \"price\": [row[\"Price\"]],\n",
    "            \"price_norm\": row[\"NormPrice\"],\n",
    "            \"cluster\": cluster_to_label[row[\"hdbscanCluster\"]],\n",
    "            \"label\": booking_code_to_label[row[\"BookingCode\"]]\n",
    "        }\n",
    "\n",
    "        if self.preprocess_transforms is not None:\n",
    "            sample = self.preprocess_transforms(sample)\n",
    "\n",
    "        return sample\n"
   ]
  },
  {
   "cell_type": "code",
   "execution_count": 6,
   "id": "181498ff-6800-4223-9fc8-85d3f3b3da34",
   "metadata": {},
   "outputs": [],
   "source": [
    "train_ds = CustomDataset(train)\n",
    "val_ds = CustomDataset(val)\n",
    "test_ds = CustomDataset(test)"
   ]
  },
  {
   "cell_type": "code",
   "execution_count": 7,
   "id": "4bfbf292-55ae-4e51-9ede-2773cba21a9b",
   "metadata": {},
   "outputs": [],
   "source": [
    "# Dataloaders \n",
    "\n",
    "train_loader = DataLoader(train_ds, batch_size=256,  shuffle=True)\n",
    "val_loader = DataLoader(val_ds, batch_size=256,  shuffle=True)\n",
    "test_loader = DataLoader(test_ds, batch_size=256,  shuffle=True)"
   ]
  },
  {
   "cell_type": "code",
   "execution_count": 8,
   "id": "96c24da7-cc6b-44ee-9a9f-daba2bd32c10",
   "metadata": {},
   "outputs": [],
   "source": [
    "for batch in train_loader:\n",
    "    break"
   ]
  },
  {
   "cell_type": "code",
   "execution_count": 9,
   "id": "6b3e7e2e-8ba3-4af2-899b-6f19cf3b6097",
   "metadata": {},
   "outputs": [
    {
     "data": {
      "text/plain": [
       "torch.Size([256])"
      ]
     },
     "execution_count": 9,
     "metadata": {},
     "output_type": "execute_result"
    }
   ],
   "source": [
    "batch[\"label\"].shape"
   ]
  },
  {
   "cell_type": "code",
   "execution_count": 10,
   "id": "e95123ee-31b1-4c2f-8535-f60e5b1ef3e4",
   "metadata": {},
   "outputs": [
    {
     "data": {
      "text/plain": [
       "Index(['ID', 'PartNumber', 'Description', 'Count', 'SumPrice', 'BookingCode',\n",
       "       'DocumentId', 'descriptionEmbeddings', 'Price', 'NormPrice',\n",
       "       'hdbscanCluster'],\n",
       "      dtype='object')"
      ]
     },
     "execution_count": 10,
     "metadata": {},
     "output_type": "execute_result"
    }
   ],
   "source": [
    "train.columns"
   ]
  },
  {
   "cell_type": "markdown",
   "id": "360a2bce-35d1-46bf-a037-afef5772a737",
   "metadata": {},
   "source": [
    "# Building the Model"
   ]
  },
  {
   "cell_type": "code",
   "execution_count": 52,
   "id": "3fb548dc-66a8-4383-9172-9b2153291b46",
   "metadata": {},
   "outputs": [],
   "source": [
    "class classifierModel(nn.Module):\n",
    "    def __init__(self, device):\n",
    "        super(classifierModel, self).__init__()\n",
    "\n",
    "        self.device = device\n",
    "        \n",
    "        self.n_part_number = len(part_number_dict)\n",
    "        self.n_cluster = len(cluster_dict)\n",
    "        \n",
    "        self.part_number_emb = nn.Linear(in_features=len(part_number_dict), out_features=768, bias=False, device=self.device)\n",
    "        self.price_adapter = nn.Linear(in_features=1, out_features=768, bias=False, device=self.device)\n",
    "        self.cluster_emb = nn.Linear(in_features=len(cluster_dict), out_features=768, bias=False, device=self.device)\n",
    "\n",
    "        self.norm1 = nn.BatchNorm1d(768, device=self.device)\n",
    "        self.linear1 = nn.Linear(in_features=768, out_features=384, device=self.device)\n",
    "        self.dropout1 = nn.Dropout(p=0.5)\n",
    "\n",
    "        self.norm2 = nn.BatchNorm1d(384, device=self.device)\n",
    "        self.linear2 = nn.Linear(in_features=384, out_features=192, device=self.device) \n",
    "        self.dropout2 = nn.Dropout(p=0.5)\n",
    "        \n",
    "        self.norm3 = nn.BatchNorm1d(192, device=self.device)\n",
    "        self.linear3 = nn.Linear(in_features=192, out_features=len(label_dict), device=self.device) # Classification Head\n",
    "        self.dropout3 = nn.Dropout(p=0.5)\n",
    "\n",
    "        self.relu = F.leaky_relu \n",
    "\n",
    "\n",
    "    def forward(self, sample: dict):\n",
    "        text_emb = torch.tensor(sample[\"text_emb\"], dtype=torch.float32).to(self.device)\n",
    "        part_num = torch.tensor(sample[\"part_num\"]).to(self.device)\n",
    "        price = torch.tensor(sample[\"price_norm\"], dtype=torch.float32).to(self.device)\n",
    "        price = torch.reshape(price, [price.shape[0], 1])\n",
    "        cluster = torch.tensor(sample[\"cluster\"]).to(self.device)\n",
    "\n",
    "        part_emb = self.part_number_emb(F.one_hot(part_num, num_classes=self.n_part_number).float())\n",
    "        price_emb = self.price_adapter(price)\n",
    "        cluster_emb = self.cluster_emb(F.one_hot(cluster, num_classes=self.n_cluster).float())\n",
    "\n",
    "        out = torch.sum(torch.stack([text_emb, part_emb, price_emb, cluster_emb], dim=0), dim=0)\n",
    "\n",
    "        out = self.norm1(out)\n",
    "        out = self.dropout1(out)\n",
    "        out = self.linear1(out)\n",
    "        out = self.relu(out)\n",
    "        \n",
    "        out = self.norm2(out)\n",
    "        out = self.dropout2(out)\n",
    "        out = self.linear2(out)\n",
    "        out = self.relu(out)\n",
    "        \n",
    "        out = self.norm3(out)\n",
    "        out = self.dropout3(out)\n",
    "        out = self.linear3(out)\n",
    "        \n",
    "\n",
    "        return out\n",
    "               \n",
    "            \n",
    "    "
   ]
  },
  {
   "cell_type": "code",
   "execution_count": 53,
   "id": "c0890f77-b528-44f6-bb4d-475e693fc8f0",
   "metadata": {},
   "outputs": [],
   "source": [
    "device = torch.device(\"cuda:1\" if torch.cuda.is_available() else \"cpu\")\n",
    "\n",
    "model = classifierModel(device=device)"
   ]
  },
  {
   "cell_type": "code",
   "execution_count": 54,
   "id": "7ca9d0d8-a4f1-43f0-a9f7-6a0eb56865a3",
   "metadata": {},
   "outputs": [],
   "source": [
    "\n",
    "def train_model(model, train_loader, val_loader, epochs=10, lr=1e-4, l1=0, l2=0, run_name=None):\n",
    "    # Initialize Weights & Biases\n",
    "    wandb.init(\n",
    "        project=\"Buchungscodes\",\n",
    "        config={\n",
    "            \"epochs\": epochs,\n",
    "            \"learning_rate\": lr,\n",
    "            \"architecture\": str(model),\n",
    "            \"optimizer\": \"Adam\",\n",
    "            \"loss_function\": \"CrossEntropyLoss\",\n",
    "            \"l1\": l1,  # Added L1 regularization to config\n",
    "            \"l2\": l2,  # Added L2 regularization to config\n",
    "            \"run_name\": run_name  # Added run_name to config\n",
    "        },\n",
    "        reinit=True\n",
    "    )\n",
    "    config = wandb.config\n",
    "    device = model.device\n",
    "\n",
    "    model = torch.compile(model)\n",
    "\n",
    "    criterion = nn.CrossEntropyLoss()\n",
    "    optimizer = optim.Adam(model.parameters(), lr=config.learning_rate, weight_decay=l2)  # L2 regularization\n",
    "\n",
    "    wandb.watch(model, log=\"all\", log_freq=10)\n",
    "\n",
    "    best_val_loss = float('inf')\n",
    "    best_val_acc = 0.0\n",
    "\n",
    "    for epoch in range(1, epochs + 1):\n",
    "        model.train()\n",
    "        running_loss = 0.0\n",
    "        for batch in train_loader:\n",
    "            labels = batch[\"label\"].to(device)\n",
    "            optimizer.zero_grad()\n",
    "            outputs = model(batch)\n",
    "            loss = criterion(outputs, labels)\n",
    "            \n",
    "            # L1 regularization\n",
    "            if l1 > 0:\n",
    "                l1_loss = sum(p.abs().sum() for p in model.parameters())\n",
    "                loss += l1 * l1_loss\n",
    "\n",
    "            loss.backward()\n",
    "            optimizer.step()\n",
    "            running_loss += loss.item() * labels.size(0)\n",
    "        \n",
    "        epoch_loss = running_loss / len(train_loader.dataset)\n",
    "        \n",
    "        # Validation \n",
    "        model.eval()\n",
    "        val_loss = 0.0\n",
    "        correct = 0\n",
    "        total = 0\n",
    "        with torch.no_grad():\n",
    "            for batch in val_loader:\n",
    "                labels = batch[\"label\"].to(device)               \n",
    "                outputs = model(batch)\n",
    "                loss = criterion(outputs, labels)\n",
    "                val_loss += loss.item() * labels.size(0)\n",
    "                _, preds = torch.max(outputs, 1)\n",
    "                correct += (preds == labels).sum().item()\n",
    "                total += labels.size(0)\n",
    "        \n",
    "        epoch_val_loss = val_loss / len(val_loader.dataset)\n",
    "        val_acc = correct / total\n",
    "\n",
    "        # Log to wandb\n",
    "        wandb.log({\n",
    "            \"Epoch\": epoch,\n",
    "            \"Training Loss\": epoch_loss,\n",
    "            \"Validation Loss\": epoch_val_loss,\n",
    "            \"Validation Accuracy\": val_acc\n",
    "        })\n",
    "\n",
    "        print(f\"Epoch {epoch}/{epochs} | \"\n",
    "              f\"Train Loss: {epoch_loss:.4f} | \"\n",
    "              f\"Val Loss: {epoch_val_loss:.4f} | \"\n",
    "              f\"Val Acc: {val_acc:.4f}\", end=\"\\r\")\n",
    "        \n",
    "        # Define filenames with run_name if provided\n",
    "        run_suffix = f\"_{run_name}\" if run_name else \"\"\n",
    "\n",
    "        if epoch_val_loss < best_val_loss:\n",
    "            best_val_loss = epoch_val_loss\n",
    "            torch.save(model.state_dict(), f\"best_val_loss{run_suffix}.pth\")\n",
    "            print(f\"\\nSaved Best Val Loss Model at epoch {epoch}\")\n",
    "        \n",
    "        if val_acc > best_val_acc:\n",
    "            best_val_acc = val_acc\n",
    "            torch.save(model.state_dict(), f\"best_val_acc{run_suffix}.pth\")\n",
    "            print(f\"--> Saved Best Val Acc Model at epoch {epoch}\")\n",
    "\n",
    "    wandb.finish()"
   ]
  },
  {
   "cell_type": "code",
   "execution_count": 55,
   "id": "90fa5c7d-0f5d-43b9-a005-0216656a6094",
   "metadata": {},
   "outputs": [
    {
     "data": {
      "text/html": [
       "Tracking run with wandb version 0.19.2"
      ],
      "text/plain": [
       "<IPython.core.display.HTML object>"
      ]
     },
     "metadata": {},
     "output_type": "display_data"
    },
    {
     "data": {
      "text/html": [
       "Run data is saved locally in <code>/mnt/Lukas/Übung/wandb/run-20250110_125606-4yy2rs0b</code>"
      ],
      "text/plain": [
       "<IPython.core.display.HTML object>"
      ]
     },
     "metadata": {},
     "output_type": "display_data"
    },
    {
     "data": {
      "text/html": [
       "Syncing run <strong><a href='https://wandb.ai/lukas-beckers/Buchungscodes/runs/4yy2rs0b' target=\"_blank\">fearless-rain-14</a></strong> to <a href='https://wandb.ai/lukas-beckers/Buchungscodes' target=\"_blank\">Weights & Biases</a> (<a href='https://wandb.me/developer-guide' target=\"_blank\">docs</a>)<br>"
      ],
      "text/plain": [
       "<IPython.core.display.HTML object>"
      ]
     },
     "metadata": {},
     "output_type": "display_data"
    },
    {
     "data": {
      "text/html": [
       " View project at <a href='https://wandb.ai/lukas-beckers/Buchungscodes' target=\"_blank\">https://wandb.ai/lukas-beckers/Buchungscodes</a>"
      ],
      "text/plain": [
       "<IPython.core.display.HTML object>"
      ]
     },
     "metadata": {},
     "output_type": "display_data"
    },
    {
     "data": {
      "text/html": [
       " View run at <a href='https://wandb.ai/lukas-beckers/Buchungscodes/runs/4yy2rs0b' target=\"_blank\">https://wandb.ai/lukas-beckers/Buchungscodes/runs/4yy2rs0b</a>"
      ],
      "text/plain": [
       "<IPython.core.display.HTML object>"
      ]
     },
     "metadata": {},
     "output_type": "display_data"
    },
    {
     "name": "stderr",
     "output_type": "stream",
     "text": [
      "/mnt/Lukas/Übung/.venv/lib/python3.10/site-packages/torch/_dynamo/utils.py:2132: UserWarning: To copy construct from a tensor, it is recommended to use sourceTensor.clone().detach() or sourceTensor.clone().detach().requires_grad_(True), rather than torch.tensor(sourceTensor).\n",
      "  return node.target(*args, **kwargs)\n",
      "/mnt/Lukas/Übung/.venv/lib/python3.10/site-packages/torch/_dynamo/utils.py:2132: UserWarning: To copy construct from a tensor, it is recommended to use sourceTensor.clone().detach() or sourceTensor.clone().detach().requires_grad_(True), rather than torch.tensor(sourceTensor).\n",
      "  return node.target(*args, **kwargs)\n",
      "/mnt/Lukas/Übung/.venv/lib/python3.10/site-packages/torch/_dynamo/utils.py:2132: UserWarning: To copy construct from a tensor, it is recommended to use sourceTensor.clone().detach() or sourceTensor.clone().detach().requires_grad_(True), rather than torch.tensor(sourceTensor).\n",
      "  return node.target(*args, **kwargs)\n",
      "/mnt/Lukas/Übung/.venv/lib/python3.10/site-packages/torch/_dynamo/utils.py:2132: UserWarning: To copy construct from a tensor, it is recommended to use sourceTensor.clone().detach() or sourceTensor.clone().detach().requires_grad_(True), rather than torch.tensor(sourceTensor).\n",
      "  return node.target(*args, **kwargs)\n",
      "/mnt/Lukas/Übung/.venv/lib/python3.10/site-packages/torch/fx/interpreter.py:275: UserWarning: To copy construct from a tensor, it is recommended to use sourceTensor.clone().detach() or sourceTensor.clone().detach().requires_grad_(True), rather than torch.tensor(sourceTensor).\n",
      "  return target(*args, **kwargs)\n",
      "/mnt/Lukas/Übung/.venv/lib/python3.10/site-packages/torch/fx/experimental/proxy_tensor.py:1230: UserWarning: To copy construct from a tensor, it is recommended to use sourceTensor.clone().detach() or sourceTensor.clone().detach().requires_grad_(True), rather than torch.tensor(sourceTensor).\n",
      "  return func(*args, **kwargs)\n",
      "/mnt/Lukas/Übung/.venv/lib/python3.10/site-packages/torch/_dynamo/utils.py:2132: UserWarning: To copy construct from a tensor, it is recommended to use sourceTensor.clone().detach() or sourceTensor.clone().detach().requires_grad_(True), rather than torch.tensor(sourceTensor).\n",
      "  return node.target(*args, **kwargs)\n",
      "/mnt/Lukas/Übung/.venv/lib/python3.10/site-packages/torch/_dynamo/utils.py:2132: UserWarning: To copy construct from a tensor, it is recommended to use sourceTensor.clone().detach() or sourceTensor.clone().detach().requires_grad_(True), rather than torch.tensor(sourceTensor).\n",
      "  return node.target(*args, **kwargs)\n",
      "/mnt/Lukas/Übung/.venv/lib/python3.10/site-packages/torch/_dynamo/utils.py:2132: UserWarning: To copy construct from a tensor, it is recommended to use sourceTensor.clone().detach() or sourceTensor.clone().detach().requires_grad_(True), rather than torch.tensor(sourceTensor).\n",
      "  return node.target(*args, **kwargs)\n",
      "/mnt/Lukas/Übung/.venv/lib/python3.10/site-packages/torch/_dynamo/utils.py:2132: UserWarning: To copy construct from a tensor, it is recommended to use sourceTensor.clone().detach() or sourceTensor.clone().detach().requires_grad_(True), rather than torch.tensor(sourceTensor).\n",
      "  return node.target(*args, **kwargs)\n",
      "/mnt/Lukas/Übung/.venv/lib/python3.10/site-packages/torch/fx/interpreter.py:275: UserWarning: To copy construct from a tensor, it is recommended to use sourceTensor.clone().detach() or sourceTensor.clone().detach().requires_grad_(True), rather than torch.tensor(sourceTensor).\n",
      "  return target(*args, **kwargs)\n",
      "/mnt/Lukas/Übung/.venv/lib/python3.10/site-packages/torch/fx/experimental/proxy_tensor.py:1230: UserWarning: To copy construct from a tensor, it is recommended to use sourceTensor.clone().detach() or sourceTensor.clone().detach().requires_grad_(True), rather than torch.tensor(sourceTensor).\n",
      "  return func(*args, **kwargs)\n",
      "/mnt/Lukas/Übung/.venv/lib/python3.10/site-packages/torch/_dynamo/utils.py:2132: UserWarning: To copy construct from a tensor, it is recommended to use sourceTensor.clone().detach() or sourceTensor.clone().detach().requires_grad_(True), rather than torch.tensor(sourceTensor).\n",
      "  return node.target(*args, **kwargs)\n",
      "/mnt/Lukas/Übung/.venv/lib/python3.10/site-packages/torch/_dynamo/utils.py:2132: UserWarning: To copy construct from a tensor, it is recommended to use sourceTensor.clone().detach() or sourceTensor.clone().detach().requires_grad_(True), rather than torch.tensor(sourceTensor).\n",
      "  return node.target(*args, **kwargs)\n",
      "/mnt/Lukas/Übung/.venv/lib/python3.10/site-packages/torch/_dynamo/utils.py:2132: UserWarning: To copy construct from a tensor, it is recommended to use sourceTensor.clone().detach() or sourceTensor.clone().detach().requires_grad_(True), rather than torch.tensor(sourceTensor).\n",
      "  return node.target(*args, **kwargs)\n",
      "/mnt/Lukas/Übung/.venv/lib/python3.10/site-packages/torch/_dynamo/utils.py:2132: UserWarning: To copy construct from a tensor, it is recommended to use sourceTensor.clone().detach() or sourceTensor.clone().detach().requires_grad_(True), rather than torch.tensor(sourceTensor).\n",
      "  return node.target(*args, **kwargs)\n",
      "/mnt/Lukas/Übung/.venv/lib/python3.10/site-packages/torch/fx/interpreter.py:275: UserWarning: To copy construct from a tensor, it is recommended to use sourceTensor.clone().detach() or sourceTensor.clone().detach().requires_grad_(True), rather than torch.tensor(sourceTensor).\n",
      "  return target(*args, **kwargs)\n",
      "/mnt/Lukas/Übung/.venv/lib/python3.10/site-packages/torch/fx/experimental/proxy_tensor.py:1230: UserWarning: To copy construct from a tensor, it is recommended to use sourceTensor.clone().detach() or sourceTensor.clone().detach().requires_grad_(True), rather than torch.tensor(sourceTensor).\n",
      "  return func(*args, **kwargs)\n"
     ]
    },
    {
     "name": "stdout",
     "output_type": "stream",
     "text": [
      "Epoch 1/200 | Train Loss: 4.0318 | Val Loss: 3.3407 | Val Acc: 0.3143\n",
      "Saved Best Val Loss Model at epoch 1\n",
      "--> Saved Best Val Acc Model at epoch 1\n",
      "Epoch 2/200 | Train Loss: 2.8631 | Val Loss: 2.3402 | Val Acc: 0.4898\n",
      "Saved Best Val Loss Model at epoch 2\n",
      "--> Saved Best Val Acc Model at epoch 2\n",
      "Epoch 3/200 | Train Loss: 2.2949 | Val Loss: 1.9065 | Val Acc: 0.5592\n",
      "Saved Best Val Loss Model at epoch 3\n",
      "--> Saved Best Val Acc Model at epoch 3\n",
      "Epoch 4/200 | Train Loss: 2.0058 | Val Loss: 1.6557 | Val Acc: 0.5946\n",
      "Saved Best Val Loss Model at epoch 4\n",
      "--> Saved Best Val Acc Model at epoch 4\n",
      "Epoch 5/200 | Train Loss: 1.7807 | Val Loss: 1.4769 | Val Acc: 0.6190\n",
      "Saved Best Val Loss Model at epoch 5\n",
      "--> Saved Best Val Acc Model at epoch 5\n",
      "Epoch 6/200 | Train Loss: 1.6253 | Val Loss: 1.3856 | Val Acc: 0.6435\n",
      "Saved Best Val Loss Model at epoch 6\n",
      "--> Saved Best Val Acc Model at epoch 6\n",
      "Epoch 7/200 | Train Loss: 1.5006 | Val Loss: 1.2780 | Val Acc: 0.6694\n",
      "Saved Best Val Loss Model at epoch 7\n",
      "--> Saved Best Val Acc Model at epoch 7\n",
      "Epoch 8/200 | Train Loss: 1.4000 | Val Loss: 1.2309 | Val Acc: 0.6735\n",
      "Saved Best Val Loss Model at epoch 8\n",
      "--> Saved Best Val Acc Model at epoch 8\n",
      "Epoch 9/200 | Train Loss: 1.3285 | Val Loss: 1.1692 | Val Acc: 0.6884\n",
      "Saved Best Val Loss Model at epoch 9\n",
      "--> Saved Best Val Acc Model at epoch 9\n",
      "Epoch 10/200 | Train Loss: 1.2032 | Val Loss: 1.1139 | Val Acc: 0.7034\n",
      "Saved Best Val Loss Model at epoch 10\n",
      "--> Saved Best Val Acc Model at epoch 10\n",
      "Epoch 11/200 | Train Loss: 1.1578 | Val Loss: 1.0662 | Val Acc: 0.7116\n",
      "Saved Best Val Loss Model at epoch 11\n",
      "--> Saved Best Val Acc Model at epoch 11\n",
      "Epoch 12/200 | Train Loss: 1.1398 | Val Loss: 1.0595 | Val Acc: 0.7279\n",
      "Saved Best Val Loss Model at epoch 12\n",
      "--> Saved Best Val Acc Model at epoch 12\n",
      "Epoch 13/200 | Train Loss: 1.0807 | Val Loss: 1.0188 | Val Acc: 0.7252\n",
      "Saved Best Val Loss Model at epoch 13\n",
      "Epoch 14/200 | Train Loss: 1.0228 | Val Loss: 0.9654 | Val Acc: 0.7374\n",
      "Saved Best Val Loss Model at epoch 14\n",
      "--> Saved Best Val Acc Model at epoch 14\n",
      "Epoch 15/200 | Train Loss: 0.9931 | Val Loss: 0.9371 | Val Acc: 0.7497\n",
      "Saved Best Val Loss Model at epoch 15\n",
      "--> Saved Best Val Acc Model at epoch 15\n",
      "Epoch 16/200 | Train Loss: 0.9647 | Val Loss: 0.9244 | Val Acc: 0.7401\n",
      "Saved Best Val Loss Model at epoch 16\n",
      "Epoch 17/200 | Train Loss: 0.9259 | Val Loss: 0.8828 | Val Acc: 0.7605\n",
      "Saved Best Val Loss Model at epoch 17\n",
      "--> Saved Best Val Acc Model at epoch 17\n",
      "Epoch 18/200 | Train Loss: 0.9267 | Val Loss: 0.8679 | Val Acc: 0.7769\n",
      "Saved Best Val Loss Model at epoch 18\n",
      "--> Saved Best Val Acc Model at epoch 18\n",
      "Epoch 19/200 | Train Loss: 0.9015 | Val Loss: 0.8499 | Val Acc: 0.7782\n",
      "Saved Best Val Loss Model at epoch 19\n",
      "--> Saved Best Val Acc Model at epoch 19\n",
      "Epoch 21/200 | Train Loss: 0.8159 | Val Loss: 0.8443 | Val Acc: 0.7741\n",
      "Saved Best Val Loss Model at epoch 21\n",
      "Epoch 22/200 | Train Loss: 0.8297 | Val Loss: 0.8217 | Val Acc: 0.7823\n",
      "Saved Best Val Loss Model at epoch 22\n",
      "--> Saved Best Val Acc Model at epoch 22\n",
      "Epoch 23/200 | Train Loss: 0.8177 | Val Loss: 0.7917 | Val Acc: 0.7878\n",
      "Saved Best Val Loss Model at epoch 23\n",
      "--> Saved Best Val Acc Model at epoch 23\n",
      "Epoch 24/200 | Train Loss: 0.7489 | Val Loss: 0.7813 | Val Acc: 0.7810\n",
      "Saved Best Val Loss Model at epoch 24\n",
      "Epoch 26/200 | Train Loss: 0.7482 | Val Loss: 0.7757 | Val Acc: 0.7905\n",
      "Saved Best Val Loss Model at epoch 26\n",
      "--> Saved Best Val Acc Model at epoch 26\n",
      "Epoch 27/200 | Train Loss: 0.7081 | Val Loss: 0.7451 | Val Acc: 0.8027\n",
      "Saved Best Val Loss Model at epoch 27\n",
      "--> Saved Best Val Acc Model at epoch 27\n",
      "Epoch 29/200 | Train Loss: 0.6563 | Val Loss: 0.7427 | Val Acc: 0.7864\n",
      "Saved Best Val Loss Model at epoch 29\n",
      "Epoch 31/200 | Train Loss: 0.6535 | Val Loss: 0.7180 | Val Acc: 0.7918\n",
      "Saved Best Val Loss Model at epoch 31\n",
      "--> Saved Best Val Acc Model at epoch 32Loss: 0.7197 | Val Acc: 0.8041\n",
      "Epoch 33/200 | Train Loss: 0.6300 | Val Loss: 0.7116 | Val Acc: 0.7891\n",
      "Saved Best Val Loss Model at epoch 33\n",
      "Epoch 34/200 | Train Loss: 0.6260 | Val Loss: 0.7055 | Val Acc: 0.7986\n",
      "Saved Best Val Loss Model at epoch 34\n",
      "Epoch 35/200 | Train Loss: 0.5824 | Val Loss: 0.6824 | Val Acc: 0.8177\n",
      "Saved Best Val Loss Model at epoch 35\n",
      "--> Saved Best Val Acc Model at epoch 35\n",
      "Epoch 39/200 | Train Loss: 0.5867 | Val Loss: 0.6708 | Val Acc: 0.8177\n",
      "Saved Best Val Loss Model at epoch 39\n",
      "Epoch 40/200 | Train Loss: 0.5355 | Val Loss: 0.6661 | Val Acc: 0.8095\n",
      "Saved Best Val Loss Model at epoch 40\n",
      "--> Saved Best Val Acc Model at epoch 45Loss: 0.6738 | Val Acc: 0.8190\n",
      "--> Saved Best Val Acc Model at epoch 52Loss: 0.6695 | Val Acc: 0.8218\n",
      "--> Saved Best Val Acc Model at epoch 53Loss: 0.6715 | Val Acc: 0.8272\n",
      "Epoch 62/200 | Train Loss: 0.4775 | Val Loss: 0.6633 | Val Acc: 0.8245\n",
      "Saved Best Val Loss Model at epoch 62\n",
      "Epoch 64/200 | Train Loss: 0.4842 | Val Loss: 0.6597 | Val Acc: 0.8231\n",
      "Saved Best Val Loss Model at epoch 64\n",
      "Epoch 70/200 | Train Loss: 0.4302 | Val Loss: 0.6495 | Val Acc: 0.8354\n",
      "Saved Best Val Loss Model at epoch 70\n",
      "--> Saved Best Val Acc Model at epoch 70\n",
      "Epoch 80/200 | Train Loss: 0.4049 | Val Loss: 0.6457 | Val Acc: 0.8313\n",
      "Saved Best Val Loss Model at epoch 80\n",
      "Epoch 81/200 | Train Loss: 0.3799 | Val Loss: 0.6385 | Val Acc: 0.8259\n",
      "Saved Best Val Loss Model at epoch 81\n",
      "--> Saved Best Val Acc Model at epoch 116Loss: 0.6764 | Val Acc: 0.8381\n",
      "Epoch 146/200 | Train Loss: 0.3335 | Val Loss: 0.6288 | Val Acc: 0.8313\n",
      "Saved Best Val Loss Model at epoch 146\n",
      "Epoch 162/200 | Train Loss: 0.3177 | Val Loss: 0.6225 | Val Acc: 0.8381\n",
      "Saved Best Val Loss Model at epoch 162\n",
      "Epoch 166/200 | Train Loss: 0.3808 | Val Loss: 0.6213 | Val Acc: 0.8313\n",
      "Saved Best Val Loss Model at epoch 166\n",
      "Epoch 179/200 | Train Loss: 0.3001 | Val Loss: 0.6201 | Val Acc: 0.8340\n",
      "Saved Best Val Loss Model at epoch 179\n",
      "Epoch 200/200 | Train Loss: 0.3074 | Val Loss: 0.6617 | Val Acc: 0.8299\r"
     ]
    },
    {
     "data": {
      "text/html": [],
      "text/plain": [
       "<IPython.core.display.HTML object>"
      ]
     },
     "metadata": {},
     "output_type": "display_data"
    },
    {
     "data": {
      "text/html": [
       "<br>    <style><br>        .wandb-row {<br>            display: flex;<br>            flex-direction: row;<br>            flex-wrap: wrap;<br>            justify-content: flex-start;<br>            width: 100%;<br>        }<br>        .wandb-col {<br>            display: flex;<br>            flex-direction: column;<br>            flex-basis: 100%;<br>            flex: 1;<br>            padding: 10px;<br>        }<br>    </style><br><div class=\"wandb-row\"><div class=\"wandb-col\"><h3>Run history:</h3><br/><table class=\"wandb\"><tr><td>Epoch</td><td>▁▁▁▂▂▂▂▂▂▂▃▃▃▃▃▄▄▅▅▅▅▅▅▅▅▆▆▆▆▆▇▇▇▇▇▇████</td></tr><tr><td>Training Loss</td><td>█▆▆▄▄▂▂▂▂▂▂▂▁▁▁▁▁▁▁▁▁▁▁▁▁▁▁▁▁▁▁▁▁▁▁▁▁▁▁▁</td></tr><tr><td>Validation Accuracy</td><td>▁▃▅▆▆▇▇▇▇▇█▇▇▇▇██████████▇██████████████</td></tr><tr><td>Validation Loss</td><td>█▇▆▅▅▃▂▂▂▂▂▂▂▂▂▂▂▂▂▂▂▂▂▂▂▂▂▂▂▂▁▁▁▁▂▁▁▂▂▂</td></tr></table><br/></div><div class=\"wandb-col\"><h3>Run summary:</h3><br/><table class=\"wandb\"><tr><td>Epoch</td><td>200</td></tr><tr><td>Training Loss</td><td>0.30743</td></tr><tr><td>Validation Accuracy</td><td>0.82993</td></tr><tr><td>Validation Loss</td><td>0.6617</td></tr></table><br/></div></div>"
      ],
      "text/plain": [
       "<IPython.core.display.HTML object>"
      ]
     },
     "metadata": {},
     "output_type": "display_data"
    },
    {
     "data": {
      "text/html": [
       " View run <strong style=\"color:#cdcd00\">fearless-rain-14</strong> at: <a href='https://wandb.ai/lukas-beckers/Buchungscodes/runs/4yy2rs0b' target=\"_blank\">https://wandb.ai/lukas-beckers/Buchungscodes/runs/4yy2rs0b</a><br> View project at: <a href='https://wandb.ai/lukas-beckers/Buchungscodes' target=\"_blank\">https://wandb.ai/lukas-beckers/Buchungscodes</a><br>Synced 5 W&B file(s), 0 media file(s), 0 artifact file(s) and 0 other file(s)"
      ],
      "text/plain": [
       "<IPython.core.display.HTML object>"
      ]
     },
     "metadata": {},
     "output_type": "display_data"
    },
    {
     "data": {
      "text/html": [
       "Find logs at: <code>./wandb/run-20250110_125606-4yy2rs0b/logs</code>"
      ],
      "text/plain": [
       "<IPython.core.display.HTML object>"
      ]
     },
     "metadata": {},
     "output_type": "display_data"
    }
   ],
   "source": [
    "train_model(model, train_loader, val_loader, epochs=200, lr=2e-3, l2=0.001, run_name=\"Ridge_001\")"
   ]
  },
  {
   "cell_type": "markdown",
   "id": "6ca43270-7249-4cdc-8788-cb5657b665a9",
   "metadata": {},
   "source": [
    "# Feature Selection "
   ]
  },
  {
   "cell_type": "code",
   "execution_count": 41,
   "id": "71c68d7d-906a-448f-a47a-944559597ec8",
   "metadata": {},
   "outputs": [],
   "source": [
    "class justTextModel(nn.Module):\n",
    "    def __init__(self, device):\n",
    "        super(justTextModel, self).__init__()\n",
    "\n",
    "        self.device = device\n",
    "        \n",
    "        self.norm1 = nn.BatchNorm1d(768, device=self.device)\n",
    "        self.linear1 = nn.Linear(in_features=768, out_features=384, device=self.device)\n",
    "        self.dropout1 = nn.Dropout(p=0.5)\n",
    "\n",
    "        self.norm2 = nn.BatchNorm1d(384, device=self.device)\n",
    "        self.linear2 = nn.Linear(in_features=384, out_features=192, device=self.device) \n",
    "        self.dropout2 = nn.Dropout(p=0.5)\n",
    "        \n",
    "        self.norm3 = nn.BatchNorm1d(192, device=self.device)\n",
    "        self.linear3 = nn.Linear(in_features=192, out_features=len(label_dict), device=self.device) # Classification Head\n",
    "        self.dropout3 = nn.Dropout(p=0.5)\n",
    "\n",
    "        self.relu = F.leaky_relu \n",
    "\n",
    "\n",
    "    def forward(self, sample: dict):\n",
    "        text_emb = torch.tensor(sample[\"text_emb\"], dtype=torch.float32).to(self.device)\n",
    "\n",
    "        out = self.norm1(text_emb)\n",
    "        out = self.dropout1(out)\n",
    "        out = self.linear1(out)\n",
    "        out = self.relu(out)\n",
    "        \n",
    "        out = self.norm2(out)\n",
    "        out = self.dropout2(out)\n",
    "        out = self.linear2(out)\n",
    "        out = self.relu(out)\n",
    "        \n",
    "        out = self.norm3(out)\n",
    "        out = self.dropout3(out)\n",
    "        out = self.linear3(out)\n",
    "        \n",
    "\n",
    "        return out"
   ]
  },
  {
   "cell_type": "code",
   "execution_count": 42,
   "id": "3e103b86-1413-4650-8da0-d593cc6f2902",
   "metadata": {},
   "outputs": [
    {
     "data": {
      "text/html": [
       "Tracking run with wandb version 0.19.2"
      ],
      "text/plain": [
       "<IPython.core.display.HTML object>"
      ]
     },
     "metadata": {},
     "output_type": "display_data"
    },
    {
     "data": {
      "text/html": [
       "Run data is saved locally in <code>/mnt/Lukas/Übung/wandb/run-20250110_124942-6ost59ui</code>"
      ],
      "text/plain": [
       "<IPython.core.display.HTML object>"
      ]
     },
     "metadata": {},
     "output_type": "display_data"
    },
    {
     "data": {
      "text/html": [
       "Syncing run <strong><a href='https://wandb.ai/lukas-beckers/Buchungscodes/runs/6ost59ui' target=\"_blank\">northern-jazz-10</a></strong> to <a href='https://wandb.ai/lukas-beckers/Buchungscodes' target=\"_blank\">Weights & Biases</a> (<a href='https://wandb.me/developer-guide' target=\"_blank\">docs</a>)<br>"
      ],
      "text/plain": [
       "<IPython.core.display.HTML object>"
      ]
     },
     "metadata": {},
     "output_type": "display_data"
    },
    {
     "data": {
      "text/html": [
       " View project at <a href='https://wandb.ai/lukas-beckers/Buchungscodes' target=\"_blank\">https://wandb.ai/lukas-beckers/Buchungscodes</a>"
      ],
      "text/plain": [
       "<IPython.core.display.HTML object>"
      ]
     },
     "metadata": {},
     "output_type": "display_data"
    },
    {
     "data": {
      "text/html": [
       " View run at <a href='https://wandb.ai/lukas-beckers/Buchungscodes/runs/6ost59ui' target=\"_blank\">https://wandb.ai/lukas-beckers/Buchungscodes/runs/6ost59ui</a>"
      ],
      "text/plain": [
       "<IPython.core.display.HTML object>"
      ]
     },
     "metadata": {},
     "output_type": "display_data"
    },
    {
     "name": "stdout",
     "output_type": "stream",
     "text": [
      "Epoch 1/100 | Train Loss: 0.1778 | Val Loss: 0.8888 | Val Acc: 0.8204\n",
      "Saved Best Val Loss Model at epoch 1\n",
      "--> Saved Best Val Acc Model at epoch 1\n",
      "Epoch 3/100 | Train Loss: 0.1161 | Val Loss: 0.8700 | Val Acc: 0.8204\n",
      "Saved Best Val Loss Model at epoch 3\n",
      "--> Saved Best Val Acc Model at epoch 4Loss: 0.9041 | Val Acc: 0.8259\n",
      "Epoch 7/100 | Train Loss: 0.1258 | Val Loss: 0.8654 | Val Acc: 0.8218\n",
      "Saved Best Val Loss Model at epoch 7\n",
      "Epoch 8/100 | Train Loss: 0.1334 | Val Loss: 0.8652 | Val Acc: 0.8204\n",
      "Saved Best Val Loss Model at epoch 8\n",
      "Epoch 24/100 | Train Loss: 0.1137 | Val Loss: 0.8643 | Val Acc: 0.8231\n",
      "Saved Best Val Loss Model at epoch 24\n",
      "Epoch 25/100 | Train Loss: 0.1015 | Val Loss: 0.8620 | Val Acc: 0.8190\n",
      "Saved Best Val Loss Model at epoch 25\n",
      "--> Saved Best Val Acc Model at epoch 26Loss: 0.8626 | Val Acc: 0.8272\n",
      "Epoch 32/100 | Train Loss: 0.1479 | Val Loss: 0.8602 | Val Acc: 0.8272\n",
      "Saved Best Val Loss Model at epoch 32\n",
      "Epoch 34/100 | Train Loss: 0.1227 | Val Loss: 0.8375 | Val Acc: 0.8163\n",
      "Saved Best Val Loss Model at epoch 34\n",
      "Epoch 38/100 | Train Loss: 0.1180 | Val Loss: 0.8285 | Val Acc: 0.8204\n",
      "Saved Best Val Loss Model at epoch 38\n",
      "--> Saved Best Val Acc Model at epoch 39Loss: 0.8289 | Val Acc: 0.8313\n",
      "Epoch 100/100 | Train Loss: 0.1072 | Val Loss: 0.8789 | Val Acc: 0.8136\r"
     ]
    },
    {
     "data": {
      "text/html": [],
      "text/plain": [
       "<IPython.core.display.HTML object>"
      ]
     },
     "metadata": {},
     "output_type": "display_data"
    },
    {
     "data": {
      "text/html": [
       "<br>    <style><br>        .wandb-row {<br>            display: flex;<br>            flex-direction: row;<br>            flex-wrap: wrap;<br>            justify-content: flex-start;<br>            width: 100%;<br>        }<br>        .wandb-col {<br>            display: flex;<br>            flex-direction: column;<br>            flex-basis: 100%;<br>            flex: 1;<br>            padding: 10px;<br>        }<br>    </style><br><div class=\"wandb-row\"><div class=\"wandb-col\"><h3>Run history:</h3><br/><table class=\"wandb\"><tr><td>Epoch</td><td>▁▁▁▁▁▂▂▂▂▂▂▂▂▃▃▃▃▃▄▄▄▄▅▅▅▅▆▆▆▆▆▆▆▇▇▇▇▇▇█</td></tr><tr><td>Training Loss</td><td>█▅▃▄▁▃▄▃▄▃▂▃▅▅▃█▅▃▂▃▂▁▄▄▆▂▂▆▂▁▆█▆█▇▃▂▄▄▂</td></tr><tr><td>Validation Accuracy</td><td>▇▃▆▇▇▅▇▆▆▇▇▅▆▅▄▆█▅▃▇▅▅▅▅▄▃▄▅▅▅▃▄▁▄▆▅▂▄▅▅</td></tr><tr><td>Validation Loss</td><td>▄▄▄▄▂▃▃▄▄▄▄▄▃▂▄▁▂▃▂▂▂▃▂▃▃▁▂▁▁▃█▃▂▂▅▄▄▂▃▄</td></tr></table><br/></div><div class=\"wandb-col\"><h3>Run summary:</h3><br/><table class=\"wandb\"><tr><td>Epoch</td><td>100</td></tr><tr><td>Training Loss</td><td>0.10718</td></tr><tr><td>Validation Accuracy</td><td>0.81361</td></tr><tr><td>Validation Loss</td><td>0.87889</td></tr></table><br/></div></div>"
      ],
      "text/plain": [
       "<IPython.core.display.HTML object>"
      ]
     },
     "metadata": {},
     "output_type": "display_data"
    },
    {
     "data": {
      "text/html": [
       " View run <strong style=\"color:#cdcd00\">northern-jazz-10</strong> at: <a href='https://wandb.ai/lukas-beckers/Buchungscodes/runs/6ost59ui' target=\"_blank\">https://wandb.ai/lukas-beckers/Buchungscodes/runs/6ost59ui</a><br> View project at: <a href='https://wandb.ai/lukas-beckers/Buchungscodes' target=\"_blank\">https://wandb.ai/lukas-beckers/Buchungscodes</a><br>Synced 5 W&B file(s), 0 media file(s), 0 artifact file(s) and 0 other file(s)"
      ],
      "text/plain": [
       "<IPython.core.display.HTML object>"
      ]
     },
     "metadata": {},
     "output_type": "display_data"
    },
    {
     "data": {
      "text/html": [
       "Find logs at: <code>./wandb/run-20250110_124942-6ost59ui/logs</code>"
      ],
      "text/plain": [
       "<IPython.core.display.HTML object>"
      ]
     },
     "metadata": {},
     "output_type": "display_data"
    }
   ],
   "source": [
    "device = torch.device(\"cuda:1\" if torch.cuda.is_available() else \"cpu\")\n",
    "\n",
    "just_text_model = classifierModel(device=device)\n",
    "\n",
    "train_model(model, train_loader, val_loader, epochs=100, lr=2e-3, l2=0.001, run_name=\"Just_Text_Base\")"
   ]
  },
  {
   "cell_type": "code",
   "execution_count": null,
   "id": "d9e24b10-f5b7-4974-8deb-ceb4e6f9bd6f",
   "metadata": {},
   "outputs": [],
   "source": []
  },
  {
   "cell_type": "code",
   "execution_count": null,
   "id": "5ac52342-de2d-474a-b44b-934b4b1472be",
   "metadata": {},
   "outputs": [],
   "source": []
  }
 ],
 "metadata": {
  "kernelspec": {
   "display_name": "training",
   "language": "python",
   "name": "training"
  },
  "language_info": {
   "codemirror_mode": {
    "name": "ipython",
    "version": 3
   },
   "file_extension": ".py",
   "mimetype": "text/x-python",
   "name": "python",
   "nbconvert_exporter": "python",
   "pygments_lexer": "ipython3",
   "version": "3.10.14"
  }
 },
 "nbformat": 4,
 "nbformat_minor": 5
}
